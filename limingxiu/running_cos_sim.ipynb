{
 "cells": [
  {
   "cell_type": "markdown",
   "metadata": {},
   "source": [
    "# Get image cos_sim value"
   ]
  },
  {
   "cell_type": "markdown",
   "metadata": {},
   "source": [
    "## Get image 68 points by dlib"
   ]
  },
  {
   "cell_type": "code",
   "execution_count": 3,
   "metadata": {},
   "outputs": [],
   "source": [
    "import numpy as np\n",
    "import cv2\n",
    "import dlib\n",
    "import os"
   ]
  },
  {
   "cell_type": "markdown",
   "metadata": {},
   "source": [
    "### Setting image path"
   ]
  },
  {
   "cell_type": "code",
   "execution_count": 4,
   "metadata": {},
   "outputs": [],
   "source": [
    "image_path = '/home/kss/Downloads/Code/image0/vFG66.png'"
   ]
  },
  {
   "cell_type": "markdown",
   "metadata": {},
   "source": [
    "## 封装📦获取脸部特征数据点的函数"
   ]
  },
  {
   "cell_type": "code",
   "execution_count": 12,
   "metadata": {},
   "outputs": [],
   "source": [
    "def get_face_points(image_path: str) -> list:\n",
    "\n",
    "    detector = dlib.get_frontal_face_detector()  #获取人脸分类器\n",
    "    # shape_predictor_68_face_landmarks.dat.bz2 解压成 ./data 文件，\n",
    "    # 是进行人脸标定的模型，它是基于HOG特征的\n",
    "    predictor = dlib.shape_predictor('./data')#获取人脸检测器\n",
    "    img = cv2.imread(image_path)\n",
    "    # 取灰度\n",
    "    img_gray = cv2.cvtColor(img, cv2.COLOR_RGB2GRAY)\n",
    "    points = []\n",
    "    # 人脸数rects\n",
    "    rects = detector(img_gray, 0)\n",
    "    for i in range(len(rects)):\n",
    "        landmarks = np.matrix([[p.x, p.y] for p in predictor(img,rects[i]).parts()])\n",
    "        for idx, point in enumerate(landmarks):\n",
    "            # 68点的坐标\n",
    "            # print (point)#point 是一个二维数组\n",
    "            pos = (point[0, 0], point[0, 1])\n",
    "            points.append(pos)\n",
    "    return points"
   ]
  },
  {
   "cell_type": "markdown",
   "metadata": {},
   "source": [
    "### Test get face image point"
   ]
  },
  {
   "cell_type": "code",
   "execution_count": 13,
   "metadata": {},
   "outputs": [
    {
     "name": "stdout",
     "output_type": "stream",
     "text": [
      "[(-16, 110), (-14, 148), (-8, 186), (2, 223), (23, 254), (54, 278), (89, 298), (126, 311), (158, 313), (182, 305), (197, 280), (213, 253), (226, 226), (237, 198), (246, 171), (248, 144), (244, 118), (44, 75), (70, 65), (97, 60), (125, 61), (150, 69), (192, 73), (206, 65), (223, 62), (237, 63), (248, 73), (172, 109), (176, 131), (181, 152), (186, 174), (151, 195), (163, 197), (175, 199), (184, 197), (192, 193), (74, 109), (92, 98), (113, 99), (129, 115), (111, 119), (90, 118), (185, 116), (201, 99), (219, 98), (230, 109), (220, 118), (202, 119), (113, 234), (140, 223), (163, 215), (174, 218), (183, 214), (194, 221), (200, 231), (192, 247), (181, 256), (171, 259), (158, 258), (137, 251), (122, 235), (161, 232), (172, 232), (182, 231), (192, 233), (181, 234), (172, 236), (161, 236)]\n"
     ]
    }
   ],
   "source": [
    "a = get_face_points(image_path)\n",
    "print(a)"
   ]
  },
  {
   "cell_type": "markdown",
   "metadata": {},
   "source": [
    "### function: get batch image point value"
   ]
  },
  {
   "cell_type": "markdown",
   "metadata": {},
   "source": [
    "#### Get all image path in image folder"
   ]
  },
  {
   "cell_type": "code",
   "execution_count": null,
   "metadata": {},
   "outputs": [],
   "source": [
    "def get_folder_images_path(folder_path: str) -> list:\n",
    "\n",
    "    images_path = []\n",
    "    for item in os.listdir(folder_path):\n",
    "        item = os.path.join(folder_path, item)\n",
    "        images_path.append(item)\n",
    "    return images_path"
   ]
  },
  {
   "cell_type": "markdown",
   "metadata": {},
   "source": [
    "#### 定义 cos_sim 算子\n",
    "\n",
    "> 输入：俩个图片的68点特征向量\n",
    "\n",
    "> 输出：？？"
   ]
  },
  {
   "cell_type": "markdown",
   "metadata": {},
   "source": [
    "#### get batch image points value"
   ]
  },
  {
   "cell_type": "code",
   "execution_count": null,
   "metadata": {},
   "outputs": [],
   "source": [
    "def get_batch_face_points(batch_image_paths: list) -> list:\n",
    "    \n",
    "    points = []\n",
    "    for item in batch_image_paths:\n",
    "        point = get_face_points(image_path=item)\n",
    "        points.append(point)\n",
    "    return point"
   ]
  },
  {
   "cell_type": "code",
   "execution_count": null,
   "metadata": {},
   "outputs": [],
   "source": [
    "def unit_cos_sim(source_iamge, target_image):\n",
    "    print(\"未完成： 定义 cos_sim 算子\")\n",
    "    return 0"
   ]
  },
  {
   "cell_type": "markdown",
   "metadata": {},
   "source": [
    "### 获取cos_sim集合"
   ]
  },
  {
   "cell_type": "code",
   "execution_count": null,
   "metadata": {},
   "outputs": [],
   "source": [
    "def get_batch_cos_sim_sum(souce_image_path: str, target_image_folder_path: str):\n",
    "    \n",
    "    values = []\n",
    "    # 获取源图片文件的特征向量\n",
    "    source = get_face_points(image_path=souce_image_path)\n",
    "    # 获取生成图片的文件路径集合\n",
    "    images_path = get_folder_images_path(folder_path=target_image_folder_path)\n",
    "    # 获取生成图片的特征向量，用list返回\n",
    "    targets = get_batch_face_points(batch_image_paths=images_path)\n",
    "    # 开始便利生成图片的特征向量\n",
    "    for item in targets:\n",
    "        unit_cos_sim_value = unit_cos_sim()\n",
    "        values.append(unit_cos_sim_value)\n",
    "    return values"
   ]
  },
  {
   "cell_type": "markdown",
   "metadata": {},
   "source": [
    "### 获取cos_sim和，未平均"
   ]
  },
  {
   "cell_type": "code",
   "execution_count": null,
   "metadata": {},
   "outputs": [],
   "source": [
    "def get_batch_cos_sim_sum(souce_image_path: str, target_image_folder_path: str):\n",
    "    \n",
    "    values = []\n",
    "    # 获取源图片文件的特征向量\n",
    "    source = get_face_points(image_path=souce_image_path)\n",
    "    # 获取生成图片的文件路径集合\n",
    "    images_path = get_folder_images_path(folder_path=target_image_folder_path)\n",
    "    # 获取生成图片的特征向量，用list返回\n",
    "    targets = get_batch_face_points(batch_image_paths=images_path)\n",
    "    # 开始便利生成图片的特征向量\n",
    "    for item in targets:\n",
    "        unit_cos_sim_value = unit_cos_sim()\n",
    "        values.append(unit_cos_sim_value)\n",
    "    return sum(values)"
   ]
  },
  {
   "cell_type": "markdown",
   "metadata": {},
   "source": [
    "### 获取cos_sim平均值"
   ]
  },
  {
   "cell_type": "code",
   "execution_count": null,
   "metadata": {},
   "outputs": [],
   "source": [
    "def get_batch_cos_sim_avg(souce_image_path: str, target_image_folder_path: str):\n",
    "    \n",
    "    values = []\n",
    "    # 获取源图片文件的特征向量\n",
    "    source = get_face_points(image_path=souce_image_path)\n",
    "    # 获取生成图片的文件路径集合\n",
    "    images_path = get_folder_images_path(folder_path=target_image_folder_path)\n",
    "    # 获取生成图片的特征向量，用list返回\n",
    "    targets = get_batch_face_points(batch_image_paths=images_path)\n",
    "    # 开始便利生成图片的特征向量\n",
    "    for item in targets:\n",
    "        unit_cos_sim_value = unit_cos_sim()\n",
    "        values.append(unit_cos_sim_value)\n",
    "    value = sum(values) / len(values)\n",
    "    return value"
   ]
  },
  {
   "cell_type": "markdown",
   "metadata": {},
   "source": [
    "## 使用方法"
   ]
  },
  {
   "cell_type": "code",
   "execution_count": null,
   "metadata": {},
   "outputs": [],
   "source": [
    "# 原图片路径\n",
    "image_path = \"\"\n",
    "# 生成图片的文件夹路径\n",
    "image_folder_path = \"\"\n",
    "# 生成图片的数量\n",
    "# 获取所有图片的cos_sim和\n",
    "sum_cos_sim_value = get_batch_cos_sim_sum(souce_image_path=image_path, target_image_folder_path=image_folder_path)\n",
    "print(f\"所有图片的cos_sim和{sum_cos_sim_value}\")\n",
    "# 获取所有图片的cos_sim均值\n",
    "avg_cos_sim_value = get_batch_cos_sim_avg(souce_image_path=image_path, target_image_folder_path=image_folder_path)\n",
    "print(f\"所有图片的cos_sim均值{avg_cos_sim_value}\")"
   ]
  },
  {
   "cell_type": "markdown",
   "metadata": {},
   "source": [
    "## 测试：查看图片的68点抓取效果"
   ]
  },
  {
   "cell_type": "code",
   "execution_count": 10,
   "metadata": {},
   "outputs": [
    {
     "name": "stdout",
     "output_type": "stream",
     "text": [
      "<class 'numpy.matrix'>\n",
      "(68, 2)\n",
      "<class 'numpy.matrix'>\n",
      "1\n",
      "0 (-16, 110)\n",
      "1 (-14, 148)\n",
      "2 (-8, 186)\n",
      "3 (2, 223)\n",
      "4 (23, 254)\n",
      "5 (54, 278)\n",
      "6 (89, 298)\n",
      "7 (126, 311)\n",
      "8 (158, 313)\n",
      "9 (182, 305)\n",
      "10 (197, 280)\n",
      "11 (213, 253)\n",
      "12 (226, 226)\n",
      "13 (237, 198)\n",
      "14 (246, 171)\n",
      "15 (248, 144)\n",
      "16 (244, 118)\n",
      "17 (44, 75)\n",
      "18 (70, 65)\n",
      "19 (97, 60)\n",
      "20 (125, 61)\n",
      "21 (150, 69)\n",
      "22 (192, 73)\n",
      "23 (206, 65)\n",
      "24 (223, 62)\n",
      "25 (237, 63)\n",
      "26 (248, 73)\n",
      "27 (172, 109)\n",
      "28 (176, 131)\n",
      "29 (181, 152)\n",
      "30 (186, 174)\n",
      "31 (151, 195)\n",
      "32 (163, 197)\n",
      "33 (175, 199)\n",
      "34 (184, 197)\n",
      "35 (192, 193)\n",
      "36 (74, 109)\n",
      "37 (92, 98)\n",
      "38 (113, 99)\n",
      "39 (129, 115)\n",
      "40 (111, 119)\n",
      "41 (90, 118)\n",
      "42 (185, 116)\n",
      "43 (201, 99)\n",
      "44 (219, 98)\n",
      "45 (230, 109)\n",
      "46 (220, 118)\n",
      "47 (202, 119)\n",
      "48 (113, 234)\n",
      "49 (140, 223)\n",
      "50 (163, 215)\n",
      "51 (174, 218)\n",
      "52 (183, 214)\n",
      "53 (194, 221)\n",
      "54 (200, 231)\n",
      "55 (192, 247)\n",
      "56 (181, 256)\n",
      "57 (171, 259)\n",
      "58 (158, 258)\n",
      "59 (137, 251)\n",
      "60 (122, 235)\n",
      "61 (161, 232)\n",
      "62 (172, 232)\n",
      "63 (182, 231)\n",
      "64 (192, 233)\n",
      "65 (181, 234)\n",
      "66 (172, 236)\n",
      "67 (161, 236)\n"
     ]
    }
   ],
   "source": [
    "def test_show_face_68_image(image_path: str):\n",
    "    detector = dlib.get_frontal_face_detector()  #获取人脸分类器\n",
    "    # predictor = dlib.shape_predictor('./shape_predictor_68_face_landmarks.dat.bz2')#获取人脸检测器\n",
    "    predictor = dlib.shape_predictor('./data')#获取人脸检测器\n",
    "    # shape_predictor_68_face_landmarks.dat是进行人脸标定的模型，它是基于HOG特征的\n",
    "    # cv2读取图像\n",
    "    img = cv2.imread(image_path)\n",
    "    # 取灰度\n",
    "    img_gray = cv2.cvtColor(img, cv2.COLOR_RGB2GRAY)\n",
    "    # 人脸数rects\n",
    "    rects = detector(img_gray, 0)\n",
    "    for i in range(len(rects)):\n",
    "        landmarks = np.matrix([[p.x, p.y] for p in predictor(img,rects[i]).parts()])\n",
    "        # 这个函数predictor(img, rect[i]).parts()寻找人脸的68个标定点\n",
    "        # print(landmarks)#landmarks 是一个二维数组\n",
    "        for idx, point in enumerate(landmarks):\n",
    "            # 68点的坐标\n",
    "            # print (point)#point 是一个二维数组\n",
    "            pos = (point[0, 0], point[0, 1])\n",
    "            print(idx,pos)\n",
    "\n",
    "            # 利用cv2.circle给每个特征点画一个圈，共68个\n",
    "            cv2.circle(img, pos, 3, color=(0, 255, 0),thickness=-1)\n",
    "            # 利用cv2.putText输出1-68\n",
    "            font = cv2.FONT_HERSHEY_SIMPLEX\n",
    "            cv2.putText(img, str(idx+1), pos, font, 0.4, (0, 0, 255), 1,cv2.LINE_AA)\n",
    "            # 图像，文字内容， 坐标 ，字体，大小，颜色，字体厚度\n",
    "    cv2.namedWindow(\"img\", 2)\n",
    "    cv2.imshow(\"img\", img)\n",
    "    cv2.waitKey(0)"
   ]
  },
  {
   "cell_type": "code",
   "execution_count": null,
   "metadata": {},
   "outputs": [],
   "source": [
    "image_path = '/home/kss/Downloads/Code/image0/vFG66.png'\n",
    "test_show_face_68_image(image_path=image_path)"
   ]
  }
 ],
 "metadata": {
  "kernelspec": {
   "display_name": "Python 3.10.6 64-bit",
   "language": "python",
   "name": "python3"
  },
  "language_info": {
   "codemirror_mode": {
    "name": "ipython",
    "version": 3
   },
   "file_extension": ".py",
   "mimetype": "text/x-python",
   "name": "python",
   "nbconvert_exporter": "python",
   "pygments_lexer": "ipython3",
   "version": "3.10.6"
  },
  "orig_nbformat": 4,
  "vscode": {
   "interpreter": {
    "hash": "aee8b7b246df8f9039afb4144a1f6fd8d2ca17a180786b69acc140d282b71a49"
   }
  }
 },
 "nbformat": 4,
 "nbformat_minor": 2
}
