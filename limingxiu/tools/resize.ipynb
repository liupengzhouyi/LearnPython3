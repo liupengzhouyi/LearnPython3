{
 "cells": [
  {
   "cell_type": "code",
   "execution_count": 28,
   "metadata": {},
   "outputs": [],
   "source": [
    "from PIL import Image\n",
    "import os\n",
    "import cv2\n",
    "import numpy"
   ]
  },
  {
   "cell_type": "markdown",
   "metadata": {},
   "source": [
    "## log4py"
   ]
  },
  {
   "cell_type": "code",
   "execution_count": 29,
   "metadata": {},
   "outputs": [],
   "source": [
    "def print_log(info: str, level:str=\"DEBUG\", show: bool=True):\n",
    "\n",
    "    show = True\n",
    "    if level in [\"DEBUG\"]:\n",
    "        if show:\n",
    "            print(info)"
   ]
  },
  {
   "cell_type": "markdown",
   "metadata": {},
   "source": [
    "## image resize core"
   ]
  },
  {
   "cell_type": "code",
   "execution_count": 30,
   "metadata": {},
   "outputs": [],
   "source": [
    "def image_resize(image, width: int=256, height: int=256):\n",
    "\n",
    "    print_log(\"对图片进行个性化处理...\")\n",
    "    print_log(\"重新设置图片大小为[width:{}, height:{}]\".format(str(width), str(height)))\n",
    "    img = cv2.resize(image, (width, height))\n",
    "    return img"
   ]
  },
  {
   "cell_type": "markdown",
   "metadata": {},
   "source": [
    "## Save iamge"
   ]
  },
  {
   "cell_type": "code",
   "execution_count": 31,
   "metadata": {},
   "outputs": [],
   "source": [
    "def save_image(image_path: str, image):\n",
    "\n",
    "    print_log(\"开始保存图片{}\".format(image_path))\n",
    "    cv2.imwrite(image_path, image)"
   ]
  },
  {
   "cell_type": "markdown",
   "metadata": {},
   "source": [
    "## Get all image folders"
   ]
  },
  {
   "cell_type": "code",
   "execution_count": 32,
   "metadata": {},
   "outputs": [],
   "source": [
    "def get_target_folder_paths(target_folder_path: str) -> list:\n",
    "\n",
    "    print_log(info=\"获取图片文件夹\")\n",
    "    folder_paths = []\n",
    "    if not os.path.exists(target_folder_path):\n",
    "        print_log(info=\"图片文件夹路径不存在\")\n",
    "    else:\n",
    "        for item in os.listdir(target_folder_path):\n",
    "            temp_path = os.path.join(target_folder_path, item)\n",
    "            if not os.path.isdir(temp_path):\n",
    "                print_log(info=f\"{str(item)}非文件夹，跳过。\")\n",
    "            else:\n",
    "                print_log(info=f\"获取文件夹: {str(temp_path)}\")\n",
    "                temp_map = {\"folder_name\": item, \"folder_path\": temp_path}\n",
    "                folder_paths.append(temp_map)\n",
    "    return folder_paths"
   ]
  },
  {
   "cell_type": "markdown",
   "metadata": {},
   "source": [
    "## Get all image name and image path in target image folder"
   ]
  },
  {
   "cell_type": "code",
   "execution_count": 33,
   "metadata": {},
   "outputs": [],
   "source": [
    "def check_tatget_file(file_name: str, file_ends: list=None) -> bool:\n",
    "\n",
    "    result = False\n",
    "    if not file_ends:\n",
    "        result = True\n",
    "    else:\n",
    "        for item in file_ends:\n",
    "            if str(file_name).endswith(item):\n",
    "                result = True\n",
    "                break\n",
    "    print_log(info=f\"Check file {file_name} in {str(file_ends)}:{str(result)}\", level=\"INFO\")\n",
    "    return result\n",
    "\n",
    "def get_image_info(source_folder_path: str, file_ends: list=None) -> list:\n",
    "\n",
    "    print_log(info=\"获取源文件图片\")\n",
    "    image_names = []\n",
    "    if not os.path.exists(source_folder_path):\n",
    "        print_log(info=\"源图片文件夹路径不存在\")\n",
    "    else:\n",
    "        for item in os.listdir(source_folder_path):\n",
    "            print_log(info=f\"获取文件: {str(item)}\")\n",
    "            if not os.path.isfile(os.path.join(source_folder_path, item)):\n",
    "                print_log(info=f\"{str(item)}非文件，跳过。\")\n",
    "                continue\n",
    "            if check_tatget_file(file_name=item, file_ends=file_ends):\n",
    "                image_info = {\"image_name\": item, \"image_path\": os.path.join(source_folder_path, item)}\n",
    "                image_names.append(image_info)\n",
    "    return image_names"
   ]
  },
  {
   "cell_type": "markdown",
   "metadata": {},
   "source": [
    "## Resize image and save it"
   ]
  },
  {
   "cell_type": "code",
   "execution_count": 34,
   "metadata": {},
   "outputs": [],
   "source": [
    "def resize_image(image_path: str, image_name: str, folder_name: str, target_path: str) -> bool:\n",
    "    \n",
    "    print_log(\"开始读取:{image_path}.\")\n",
    "    temp_image = cv2.imread(image_path)\n",
    "    # print_log(\"该图片的大小为:\" + str(temp_image.shape))\n",
    "    temp_image = image_resize(temp_image, 256, 256)\n",
    "    output_image_path = os.path.join(target_path, f\"{folder_name}_{image_name}\")\n",
    "    print_log(f\"整合输出文件:{output_image_path}\")\n",
    "    save_image(image_path=output_image_path, image=temp_image)\n",
    "    return os.path.isfile(output_image_path)"
   ]
  },
  {
   "cell_type": "markdown",
   "metadata": {},
   "source": [
    "## Demo"
   ]
  },
  {
   "cell_type": "code",
   "execution_count": 36,
   "metadata": {},
   "outputs": [
    {
     "name": "stdout",
     "output_type": "stream",
     "text": [
      "获取图片文件夹\n",
      "获取文件夹: C:\\Users\\liupe\\code\\LearnPython3\\limingxiu\\demo\\target_images\\akb45\n",
      "获取文件夹: C:\\Users\\liupe\\code\\LearnPython3\\limingxiu\\demo\\target_images\\akb46\n",
      "获取文件夹: C:\\Users\\liupe\\code\\LearnPython3\\limingxiu\\demo\\target_images\\akb47\n",
      "获取文件夹: C:\\Users\\liupe\\code\\LearnPython3\\limingxiu\\demo\\target_images\\akb48\n",
      "Folder name: akb45\n",
      "Folder path: C:\\Users\\liupe\\code\\LearnPython3\\limingxiu\\demo\\target_images\\akb45\n",
      "获取源文件图片\n",
      "获取文件: image.png\n",
      "获取文件: style_001.png\n",
      "获取文件: style_002.png\n",
      "获取文件: style_003.png\n",
      "Image name: image.png\n",
      "Image path: C:\\Users\\liupe\\code\\LearnPython3\\limingxiu\\demo\\target_images\\akb45\\image.png\n",
      "{'folder_name': 'akb45', 'image_name': 'image.png', 'image_path': 'C:\\\\Users\\\\liupe\\\\code\\\\LearnPython3\\\\limingxiu\\\\demo\\\\target_images\\\\akb45\\\\image.png'}\n",
      "开始读取:{image_path}.\n",
      "对图片进行个性化处理...\n",
      "重新设置图片大小为[width:256, height:256]\n",
      "整合输出文件:C:\\Users\\liupe\\code\\LearnPython3\\limingxiu\\demo\\result\\akb45_image.png\n",
      "开始保存图片C:\\Users\\liupe\\code\\LearnPython3\\limingxiu\\demo\\result\\akb45_image.png\n",
      "True\n",
      "Image name: style_001.png\n",
      "Image path: C:\\Users\\liupe\\code\\LearnPython3\\limingxiu\\demo\\target_images\\akb45\\style_001.png\n",
      "{'folder_name': 'akb45', 'image_name': 'style_001.png', 'image_path': 'C:\\\\Users\\\\liupe\\\\code\\\\LearnPython3\\\\limingxiu\\\\demo\\\\target_images\\\\akb45\\\\style_001.png'}\n",
      "开始读取:{image_path}.\n",
      "对图片进行个性化处理...\n",
      "重新设置图片大小为[width:256, height:256]\n",
      "整合输出文件:C:\\Users\\liupe\\code\\LearnPython3\\limingxiu\\demo\\result\\akb45_style_001.png\n",
      "开始保存图片C:\\Users\\liupe\\code\\LearnPython3\\limingxiu\\demo\\result\\akb45_style_001.png\n",
      "True\n",
      "Image name: style_002.png\n",
      "Image path: C:\\Users\\liupe\\code\\LearnPython3\\limingxiu\\demo\\target_images\\akb45\\style_002.png\n",
      "{'folder_name': 'akb45', 'image_name': 'style_002.png', 'image_path': 'C:\\\\Users\\\\liupe\\\\code\\\\LearnPython3\\\\limingxiu\\\\demo\\\\target_images\\\\akb45\\\\style_002.png'}\n",
      "开始读取:{image_path}.\n",
      "对图片进行个性化处理...\n",
      "重新设置图片大小为[width:256, height:256]\n",
      "整合输出文件:C:\\Users\\liupe\\code\\LearnPython3\\limingxiu\\demo\\result\\akb45_style_002.png\n",
      "开始保存图片C:\\Users\\liupe\\code\\LearnPython3\\limingxiu\\demo\\result\\akb45_style_002.png\n",
      "True\n",
      "Image name: style_003.png\n",
      "Image path: C:\\Users\\liupe\\code\\LearnPython3\\limingxiu\\demo\\target_images\\akb45\\style_003.png\n",
      "{'folder_name': 'akb45', 'image_name': 'style_003.png', 'image_path': 'C:\\\\Users\\\\liupe\\\\code\\\\LearnPython3\\\\limingxiu\\\\demo\\\\target_images\\\\akb45\\\\style_003.png'}\n",
      "开始读取:{image_path}.\n",
      "对图片进行个性化处理...\n",
      "重新设置图片大小为[width:256, height:256]\n",
      "整合输出文件:C:\\Users\\liupe\\code\\LearnPython3\\limingxiu\\demo\\result\\akb45_style_003.png\n",
      "开始保存图片C:\\Users\\liupe\\code\\LearnPython3\\limingxiu\\demo\\result\\akb45_style_003.png\n",
      "True\n",
      "Folder name: akb46\n",
      "Folder path: C:\\Users\\liupe\\code\\LearnPython3\\limingxiu\\demo\\target_images\\akb46\n",
      "获取源文件图片\n",
      "获取文件: style_001.png\n",
      "获取文件: style_002.png\n",
      "获取文件: style_003.png\n",
      "Image name: style_001.png\n",
      "Image path: C:\\Users\\liupe\\code\\LearnPython3\\limingxiu\\demo\\target_images\\akb46\\style_001.png\n",
      "{'folder_name': 'akb46', 'image_name': 'style_001.png', 'image_path': 'C:\\\\Users\\\\liupe\\\\code\\\\LearnPython3\\\\limingxiu\\\\demo\\\\target_images\\\\akb46\\\\style_001.png'}\n",
      "开始读取:{image_path}.\n",
      "对图片进行个性化处理...\n",
      "重新设置图片大小为[width:256, height:256]\n",
      "整合输出文件:C:\\Users\\liupe\\code\\LearnPython3\\limingxiu\\demo\\result\\akb46_style_001.png\n",
      "开始保存图片C:\\Users\\liupe\\code\\LearnPython3\\limingxiu\\demo\\result\\akb46_style_001.png\n",
      "True\n",
      "Image name: style_002.png\n",
      "Image path: C:\\Users\\liupe\\code\\LearnPython3\\limingxiu\\demo\\target_images\\akb46\\style_002.png\n",
      "{'folder_name': 'akb46', 'image_name': 'style_002.png', 'image_path': 'C:\\\\Users\\\\liupe\\\\code\\\\LearnPython3\\\\limingxiu\\\\demo\\\\target_images\\\\akb46\\\\style_002.png'}\n",
      "开始读取:{image_path}.\n",
      "对图片进行个性化处理...\n",
      "重新设置图片大小为[width:256, height:256]\n",
      "整合输出文件:C:\\Users\\liupe\\code\\LearnPython3\\limingxiu\\demo\\result\\akb46_style_002.png\n",
      "开始保存图片C:\\Users\\liupe\\code\\LearnPython3\\limingxiu\\demo\\result\\akb46_style_002.png\n",
      "True\n",
      "Image name: style_003.png\n",
      "Image path: C:\\Users\\liupe\\code\\LearnPython3\\limingxiu\\demo\\target_images\\akb46\\style_003.png\n",
      "{'folder_name': 'akb46', 'image_name': 'style_003.png', 'image_path': 'C:\\\\Users\\\\liupe\\\\code\\\\LearnPython3\\\\limingxiu\\\\demo\\\\target_images\\\\akb46\\\\style_003.png'}\n",
      "开始读取:{image_path}.\n",
      "对图片进行个性化处理...\n",
      "重新设置图片大小为[width:256, height:256]\n",
      "整合输出文件:C:\\Users\\liupe\\code\\LearnPython3\\limingxiu\\demo\\result\\akb46_style_003.png\n",
      "开始保存图片C:\\Users\\liupe\\code\\LearnPython3\\limingxiu\\demo\\result\\akb46_style_003.png\n",
      "True\n",
      "Folder name: akb47\n",
      "Folder path: C:\\Users\\liupe\\code\\LearnPython3\\limingxiu\\demo\\target_images\\akb47\n",
      "获取源文件图片\n",
      "获取文件: style_001.png\n",
      "获取文件: style_002.png\n",
      "获取文件: style_003.png\n",
      "Image name: style_001.png\n",
      "Image path: C:\\Users\\liupe\\code\\LearnPython3\\limingxiu\\demo\\target_images\\akb47\\style_001.png\n",
      "{'folder_name': 'akb47', 'image_name': 'style_001.png', 'image_path': 'C:\\\\Users\\\\liupe\\\\code\\\\LearnPython3\\\\limingxiu\\\\demo\\\\target_images\\\\akb47\\\\style_001.png'}\n",
      "开始读取:{image_path}.\n",
      "对图片进行个性化处理...\n",
      "重新设置图片大小为[width:256, height:256]\n",
      "整合输出文件:C:\\Users\\liupe\\code\\LearnPython3\\limingxiu\\demo\\result\\akb47_style_001.png\n",
      "开始保存图片C:\\Users\\liupe\\code\\LearnPython3\\limingxiu\\demo\\result\\akb47_style_001.png\n",
      "True\n",
      "Image name: style_002.png\n",
      "Image path: C:\\Users\\liupe\\code\\LearnPython3\\limingxiu\\demo\\target_images\\akb47\\style_002.png\n",
      "{'folder_name': 'akb47', 'image_name': 'style_002.png', 'image_path': 'C:\\\\Users\\\\liupe\\\\code\\\\LearnPython3\\\\limingxiu\\\\demo\\\\target_images\\\\akb47\\\\style_002.png'}\n",
      "开始读取:{image_path}.\n",
      "对图片进行个性化处理...\n",
      "重新设置图片大小为[width:256, height:256]\n",
      "整合输出文件:C:\\Users\\liupe\\code\\LearnPython3\\limingxiu\\demo\\result\\akb47_style_002.png\n",
      "开始保存图片C:\\Users\\liupe\\code\\LearnPython3\\limingxiu\\demo\\result\\akb47_style_002.png\n",
      "True\n",
      "Image name: style_003.png\n",
      "Image path: C:\\Users\\liupe\\code\\LearnPython3\\limingxiu\\demo\\target_images\\akb47\\style_003.png\n",
      "{'folder_name': 'akb47', 'image_name': 'style_003.png', 'image_path': 'C:\\\\Users\\\\liupe\\\\code\\\\LearnPython3\\\\limingxiu\\\\demo\\\\target_images\\\\akb47\\\\style_003.png'}\n",
      "开始读取:{image_path}.\n",
      "对图片进行个性化处理...\n",
      "重新设置图片大小为[width:256, height:256]\n",
      "整合输出文件:C:\\Users\\liupe\\code\\LearnPython3\\limingxiu\\demo\\result\\akb47_style_003.png\n",
      "开始保存图片C:\\Users\\liupe\\code\\LearnPython3\\limingxiu\\demo\\result\\akb47_style_003.png\n",
      "True\n",
      "Folder name: akb48\n",
      "Folder path: C:\\Users\\liupe\\code\\LearnPython3\\limingxiu\\demo\\target_images\\akb48\n",
      "获取源文件图片\n",
      "获取文件: style_001.png\n",
      "获取文件: style_002.png\n",
      "获取文件: style_003.png\n",
      "Image name: style_001.png\n",
      "Image path: C:\\Users\\liupe\\code\\LearnPython3\\limingxiu\\demo\\target_images\\akb48\\style_001.png\n",
      "{'folder_name': 'akb48', 'image_name': 'style_001.png', 'image_path': 'C:\\\\Users\\\\liupe\\\\code\\\\LearnPython3\\\\limingxiu\\\\demo\\\\target_images\\\\akb48\\\\style_001.png'}\n",
      "开始读取:{image_path}.\n",
      "对图片进行个性化处理...\n",
      "重新设置图片大小为[width:256, height:256]\n",
      "整合输出文件:C:\\Users\\liupe\\code\\LearnPython3\\limingxiu\\demo\\result\\akb48_style_001.png\n",
      "开始保存图片C:\\Users\\liupe\\code\\LearnPython3\\limingxiu\\demo\\result\\akb48_style_001.png\n",
      "True\n",
      "Image name: style_002.png\n",
      "Image path: C:\\Users\\liupe\\code\\LearnPython3\\limingxiu\\demo\\target_images\\akb48\\style_002.png\n",
      "{'folder_name': 'akb48', 'image_name': 'style_002.png', 'image_path': 'C:\\\\Users\\\\liupe\\\\code\\\\LearnPython3\\\\limingxiu\\\\demo\\\\target_images\\\\akb48\\\\style_002.png'}\n",
      "开始读取:{image_path}.\n",
      "对图片进行个性化处理...\n",
      "重新设置图片大小为[width:256, height:256]\n",
      "整合输出文件:C:\\Users\\liupe\\code\\LearnPython3\\limingxiu\\demo\\result\\akb48_style_002.png\n",
      "开始保存图片C:\\Users\\liupe\\code\\LearnPython3\\limingxiu\\demo\\result\\akb48_style_002.png\n",
      "True\n",
      "Image name: style_003.png\n",
      "Image path: C:\\Users\\liupe\\code\\LearnPython3\\limingxiu\\demo\\target_images\\akb48\\style_003.png\n",
      "{'folder_name': 'akb48', 'image_name': 'style_003.png', 'image_path': 'C:\\\\Users\\\\liupe\\\\code\\\\LearnPython3\\\\limingxiu\\\\demo\\\\target_images\\\\akb48\\\\style_003.png'}\n",
      "开始读取:{image_path}.\n",
      "对图片进行个性化处理...\n",
      "重新设置图片大小为[width:256, height:256]\n",
      "整合输出文件:C:\\Users\\liupe\\code\\LearnPython3\\limingxiu\\demo\\result\\akb48_style_003.png\n",
      "开始保存图片C:\\Users\\liupe\\code\\LearnPython3\\limingxiu\\demo\\result\\akb48_style_003.png\n",
      "True\n"
     ]
    }
   ],
   "source": [
    "# 统一文件夹路径\n",
    "folder_path = r\"C:\\Users\\liupe\\code\\LearnPython3\\limingxiu\\demo\\target_images\"\n",
    "# 输出文件夹\n",
    "target_path = r\"C:\\Users\\liupe\\code\\LearnPython3\\limingxiu\\demo\\result\"\n",
    "# 图片后缀\n",
    "image_ends = ['.png', '.jpg']\n",
    "\n",
    "folder_map = get_target_folder_paths(target_folder_path=folder_path)\n",
    "for item in folder_map:\n",
    "    if isinstance(item, dict):\n",
    "        folder_name = str(item.get('folder_name'))\n",
    "        folder_path = str(item.get('folder_path'))\n",
    "        print_log(f\"Folder name: {folder_name}\")\n",
    "        print_log(f\"Folder path: {folder_path}\")\n",
    "        image_infos = get_image_info(source_folder_path=folder_path, file_ends=image_ends)\n",
    "        for image_item in image_infos:\n",
    "            if isinstance(image_item, dict):\n",
    "                image_name = image_item.get(\"image_name\")\n",
    "                image_path = image_item.get(\"image_path\")\n",
    "                print_log(f\"Image name: {image_name}\")\n",
    "                print_log(f\"Image path: {image_path}\")\n",
    "                \n",
    "                # create_new_data\n",
    "                image_data = {\"folder_name\": folder_name, \"image_name\": image_name, \"image_path\": image_path}\n",
    "                print(image_data)\n",
    "                a = resize_image(image_path=image_path, image_name=image_name, folder_name=folder_name, target_path=target_path)\n",
    "                print(a)"
   ]
  }
 ],
 "metadata": {
  "kernelspec": {
   "display_name": "Python 3.10.5 64-bit",
   "language": "python",
   "name": "python3"
  },
  "language_info": {
   "codemirror_mode": {
    "name": "ipython",
    "version": 3
   },
   "file_extension": ".py",
   "mimetype": "text/x-python",
   "name": "python",
   "nbconvert_exporter": "python",
   "pygments_lexer": "ipython3",
   "version": "3.10.5"
  },
  "orig_nbformat": 4,
  "vscode": {
   "interpreter": {
    "hash": "113482d150a53f81a4e99a72b6de7bb4e1fd5690ef601b316d14286d54868a34"
   }
  }
 },
 "nbformat": 4,
 "nbformat_minor": 2
}
