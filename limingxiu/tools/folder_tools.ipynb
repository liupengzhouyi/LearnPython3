{
 "cells": [
  {
   "cell_type": "markdown",
   "metadata": {},
   "source": [
    "# Folder tools"
   ]
  },
  {
   "cell_type": "code",
   "execution_count": 100,
   "metadata": {},
   "outputs": [],
   "source": [
    "import os"
   ]
  },
  {
   "cell_type": "code",
   "execution_count": 101,
   "metadata": {},
   "outputs": [],
   "source": [
    "def print_log(info: str, level:str=\"DEBUG\", show: bool=True):\n",
    "\n",
    "    show = False\n",
    "    if show:\n",
    "        print(info)"
   ]
  },
  {
   "cell_type": "code",
   "execution_count": 102,
   "metadata": {},
   "outputs": [],
   "source": [
    "# 原图片文件夹地址\n",
    "source_folder_path = r'C:\\Users\\liupe\\code\\LearnPython3\\limingxiu\\demo\\source_images'\n",
    "\n",
    "# 生成图片文件夹地址\n",
    "target_folder_path = r\"C:\\Users\\liupe\\code\\LearnPython3\\limingxiu\\demo\\target_images\"\n",
    "\n",
    "image_ends = ['.png', '.jpg', '.ipynb']"
   ]
  },
  {
   "cell_type": "code",
   "execution_count": 103,
   "metadata": {},
   "outputs": [],
   "source": [
    "def get_target_folder_paths(target_folder_path: str) -> list:\n",
    "\n",
    "    print_log(info=\"获取生成图片文件夹\")\n",
    "    folder_paths = []\n",
    "    if not os.path.exists(target_folder_path):\n",
    "        print_log(info=\"生成图片文件夹路径不存在\")\n",
    "    else:\n",
    "        for item in os.listdir(target_folder_path):\n",
    "            temp_path = os.path.join(target_folder_path, item)\n",
    "            if not os.path.isdir(temp_path):\n",
    "                print_log(info=f\"{str(item)}非文件夹，跳过。\")\n",
    "            else:\n",
    "                print_log(info=f\"获取文件夹: {str(temp_path)}\")\n",
    "                folder_paths.append(temp_path)\n",
    "    return folder_paths"
   ]
  },
  {
   "cell_type": "code",
   "execution_count": 104,
   "metadata": {},
   "outputs": [],
   "source": [
    "def check_tatget_file(file_name: str, file_ends: list=None) -> bool:\n",
    "\n",
    "    result = False\n",
    "    if not file_ends:\n",
    "        result = True\n",
    "    else:\n",
    "        for item in file_ends:\n",
    "            if str(file_name).endswith(item):\n",
    "                result = True\n",
    "                break\n",
    "    print_log(info=f\"Check file {file_name} in {str(file_ends)}:{str(result)}\")\n",
    "    return result"
   ]
  },
  {
   "cell_type": "code",
   "execution_count": 105,
   "metadata": {},
   "outputs": [],
   "source": [
    "def get_source_image_name(source_folder_path: str, file_ends: list=None) -> list:\n",
    "\n",
    "    print_log(info=\"获取源文件图片\")\n",
    "    image_names = []\n",
    "    if not os.path.exists(source_folder_path):\n",
    "        print_log(info=\"源图片文件夹路径不存在\")\n",
    "    else:\n",
    "        for item in os.listdir(source_folder_path):\n",
    "            print_log(info=f\"获取文件: {str(item)}\")\n",
    "            if not os.path.isfile(os.path.join(source_folder_path, item)):\n",
    "                print_log(info=f\"{str(item)}非文件，跳过。\")\n",
    "                continue\n",
    "            if check_tatget_file(file_name=item, file_ends=file_ends):\n",
    "                image_names.append(item)\n",
    "    return image_names"
   ]
  },
  {
   "cell_type": "code",
   "execution_count": 106,
   "metadata": {},
   "outputs": [],
   "source": [
    "image_names = get_source_image_name(source_folder_path=source_folder_path, file_ends=image_ends)"
   ]
  },
  {
   "cell_type": "code",
   "execution_count": 107,
   "metadata": {},
   "outputs": [],
   "source": [
    "def image_name2path(image_folder_path: str, image_name: str) -> str:\n",
    "\n",
    "    print_log(info=f\"图片名称{image_name}添加到路径{image_folder_path}后\")\n",
    "    image_path = ''\n",
    "    if not os.path.isdir(image_folder_path):\n",
    "        print_log(info=\"图片文件夹路径不存在\")\n",
    "    else:\n",
    "        image_path = os.path.join(image_folder_path, image_name)\n",
    "        print_log(info=f\"生成：{image_path}\")\n",
    "    return image_path"
   ]
  },
  {
   "cell_type": "code",
   "execution_count": 108,
   "metadata": {},
   "outputs": [],
   "source": [
    "def batch_image_name2path(image_folder_path: str, image_names: list) -> list:\n",
    "\n",
    "    image_paths = []\n",
    "    for item in image_names:\n",
    "        temp_path = image_name2path(image_folder_path=image_folder_path, image_name=item)\n",
    "        if temp_path:\n",
    "            image_paths.append(temp_path)\n",
    "    return image_paths"
   ]
  },
  {
   "cell_type": "code",
   "execution_count": 109,
   "metadata": {},
   "outputs": [],
   "source": [
    "image_paths = batch_image_name2path(image_folder_path=source_folder_path, image_names=image_names)"
   ]
  },
  {
   "cell_type": "code",
   "execution_count": 110,
   "metadata": {},
   "outputs": [],
   "source": [
    "def get_image_paths(source_folder_path: str, file_ends: list=None) -> list:\n",
    "\n",
    "    image_names = get_source_image_name(source_folder_path=source_folder_path, file_ends=image_ends)\n",
    "    image_paths = batch_image_name2path(image_folder_path=source_folder_path, image_names=image_names)\n",
    "    return image_paths"
   ]
  },
  {
   "cell_type": "code",
   "execution_count": 111,
   "metadata": {},
   "outputs": [],
   "source": [
    "def get_folder_path_by_image(image_path: str, folder_paths: list) -> str:\n",
    "\n",
    "    folder_path = ''\n",
    "    image_folder_path = os.path.dirname(image_path)\n",
    "    image_name = image_path.replace(image_folder_path, \"\")\n",
    "    image_name = image_name.split('.')[0]\n",
    "    print_log(info=f\"获取图片名称：{image_name}\")\n",
    "\n",
    "    for folder_item in folder_paths:\n",
    "        temp_folder_path = os.path.dirname(folder_item)\n",
    "        temp_folder_name = folder_item.replace(temp_folder_path, \"\")\n",
    "        print_log(info=f\"获取文件夹名称：{temp_folder_name}\")\n",
    "        if temp_folder_name == image_name:\n",
    "            folder_path = folder_item\n",
    "    return folder_path"
   ]
  },
  {
   "cell_type": "code",
   "execution_count": 112,
   "metadata": {},
   "outputs": [],
   "source": [
    "def get_batch_image_folders(image_paths: list, folder_paths: list) -> list:\n",
    "\n",
    "    image_folder_maps = []\n",
    "\n",
    "    for image_path in image_paths:\n",
    "        folder_path = get_folder_path_by_image(image_path=image_path, folder_paths=folders)\n",
    "        if not folder_path:\n",
    "            continue\n",
    "        print_log(info='--------------------------------------------------------------')\n",
    "        print_log(info=f\"|   image path | {image_path}\")\n",
    "        print_log(info=f\"|  folder path | {folder_path}\")\n",
    "        print_log(info='--------------------------------------------------------------')\n",
    "        image_folder_map = {\"image_path\": image_path, \"folder_path\": folder_path}\n",
    "        image_folder_maps.append(image_folder_map)\n",
    "    return image_folder_maps"
   ]
  },
  {
   "cell_type": "markdown",
   "metadata": {},
   "source": [
    "## 获取图片文件路径"
   ]
  },
  {
   "cell_type": "code",
   "execution_count": 113,
   "metadata": {},
   "outputs": [],
   "source": [
    "image_paths = get_image_paths(source_folder_path=source_folder_path, file_ends=image_ends)"
   ]
  },
  {
   "cell_type": "markdown",
   "metadata": {},
   "source": [
    "## 获取文件夹路径"
   ]
  },
  {
   "cell_type": "code",
   "execution_count": 114,
   "metadata": {},
   "outputs": [],
   "source": [
    "folders = get_target_folder_paths(target_folder_path=target_folder_path)"
   ]
  },
  {
   "cell_type": "markdown",
   "metadata": {},
   "source": [
    "## 获取<image_path, folder_path> 组合"
   ]
  },
  {
   "cell_type": "code",
   "execution_count": 115,
   "metadata": {},
   "outputs": [],
   "source": [
    "maps = get_batch_image_folders(image_paths=image_paths, folder_paths=folders)\n",
    "        "
   ]
  },
  {
   "cell_type": "code",
   "execution_count": 116,
   "metadata": {},
   "outputs": [
    {
     "name": "stdout",
     "output_type": "stream",
     "text": [
      "{'image_path': 'C:\\\\Users\\\\liupe\\\\code\\\\LearnPython3\\\\limingxiu\\\\demo\\\\source_images\\\\akb45.png', 'folder_path': 'C:\\\\Users\\\\liupe\\\\code\\\\LearnPython3\\\\limingxiu\\\\demo\\\\target_images\\\\akb45'}\n",
      "{'image_path': 'C:\\\\Users\\\\liupe\\\\code\\\\LearnPython3\\\\limingxiu\\\\demo\\\\source_images\\\\akb46.png', 'folder_path': 'C:\\\\Users\\\\liupe\\\\code\\\\LearnPython3\\\\limingxiu\\\\demo\\\\target_images\\\\akb46'}\n",
      "{'image_path': 'C:\\\\Users\\\\liupe\\\\code\\\\LearnPython3\\\\limingxiu\\\\demo\\\\source_images\\\\akb47.png', 'folder_path': 'C:\\\\Users\\\\liupe\\\\code\\\\LearnPython3\\\\limingxiu\\\\demo\\\\target_images\\\\akb47'}\n",
      "{'image_path': 'C:\\\\Users\\\\liupe\\\\code\\\\LearnPython3\\\\limingxiu\\\\demo\\\\source_images\\\\akb48.png', 'folder_path': 'C:\\\\Users\\\\liupe\\\\code\\\\LearnPython3\\\\limingxiu\\\\demo\\\\target_images\\\\akb48'}\n"
     ]
    }
   ],
   "source": [
    "for item in maps:\n",
    "    print(item)"
   ]
  }
 ],
 "metadata": {
  "kernelspec": {
   "display_name": "Python 3.10.5 64-bit",
   "language": "python",
   "name": "python3"
  },
  "language_info": {
   "codemirror_mode": {
    "name": "ipython",
    "version": 3
   },
   "file_extension": ".py",
   "mimetype": "text/x-python",
   "name": "python",
   "nbconvert_exporter": "python",
   "pygments_lexer": "ipython3",
   "version": "3.10.5"
  },
  "orig_nbformat": 4,
  "vscode": {
   "interpreter": {
    "hash": "113482d150a53f81a4e99a72b6de7bb4e1fd5690ef601b316d14286d54868a34"
   }
  }
 },
 "nbformat": 4,
 "nbformat_minor": 2
}
