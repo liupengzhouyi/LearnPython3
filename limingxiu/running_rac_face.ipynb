{
 "cells": [
  {
   "cell_type": "markdown",
   "metadata": {},
   "source": [
    "# Arcface Demo"
   ]
  },
  {
   "cell_type": "code",
   "execution_count": 2,
   "metadata": {},
   "outputs": [],
   "source": [
    "from arcface import ArcFace\n",
    "import os"
   ]
  },
  {
   "cell_type": "code",
   "execution_count": 3,
   "metadata": {},
   "outputs": [],
   "source": [
    "image_i_path = \"/home/kss/Downloads/Code/ppp/result3.jpg\"\n",
    "image_ii_path = \"/home/kss/Downloads/Code/ppp/vFG66_b.png\""
   ]
  },
  {
   "cell_type": "code",
   "execution_count": 7,
   "metadata": {},
   "outputs": [],
   "source": [
    "\n",
    "def paly(source_image_path: str, target_image_path: str):\n",
    "\n",
    "    face_rec = ArcFace.ArcFace()\n",
    "    emb1 = face_rec.calc_emb(source_image_path)\n",
    "    emb2 = face_rec.calc_emb(target_image_path)\n",
    "    value = face_rec.get_distance_embeddings(emb1, emb2)\n",
    "    return value\n"
   ]
  },
  {
   "cell_type": "code",
   "execution_count": 8,
   "metadata": {},
   "outputs": [
    {
     "name": "stdout",
     "output_type": "stream",
     "text": [
      "1.7737019\n"
     ]
    },
    {
     "name": "stderr",
     "output_type": "stream",
     "text": [
      "INFO: Created TensorFlow Lite XNNPACK delegate for CPU.\n"
     ]
    }
   ],
   "source": [
    "arcface_value = paly(image_i_path, image_ii_path)\n",
    "print(arcface_value)"
   ]
  },
  {
   "cell_type": "markdown",
   "metadata": {},
   "source": [
    "## Get all image path in image folder"
   ]
  },
  {
   "cell_type": "markdown",
   "metadata": {},
   "source": [
    "def get_folder_images_path(folder_path: str) -> list:\n",
    "\n",
    "    images_path = []\n",
    "    for item in os.listdir(folder_path):\n",
    "        item = os.path.join(folder_path, item)\n",
    "        images_path.append(item)\n",
    "    return images_path"
   ]
  },
  {
   "cell_type": "markdown",
   "metadata": {},
   "source": [
    "## 获取一个愿图片和一组生成图片的arcface value, return as list"
   ]
  },
  {
   "cell_type": "code",
   "execution_count": 27,
   "metadata": {},
   "outputs": [],
   "source": [
    "\n",
    "def get_batch_arcface_value(source_image_path: str, target_image_folder_path: str) -> list:\n",
    "\n",
    "    values = []\n",
    "    face_rec = ArcFace.ArcFace()\n",
    "    emb1 = face_rec.calc_emb(source_image_path)\n",
    "    for item_path in get_folder_images_path(target_image_folder_path):\n",
    "        print(\"---------------------------\")\n",
    "        print(source_image_path)\n",
    "        print(item_path)\n",
    "        print(\"---------------------------\")\n",
    "        emb2 = face_rec.calc_emb(item_path)\n",
    "        value = face_rec.get_distance_embeddings(emb1, emb2)\n",
    "        values.append(value)\n",
    "    return values\n"
   ]
  },
  {
   "cell_type": "markdown",
   "metadata": {},
   "source": [
    "## 使用方法"
   ]
  },
  {
   "cell_type": "code",
   "execution_count": 28,
   "metadata": {},
   "outputs": [
    {
     "name": "stdout",
     "output_type": "stream",
     "text": [
      "---------------------------\n",
      "/home/kss/Downloads/Code/image0/vFG66.png\n",
      "/home/kss/Downloads/Code/image2/result4.jpg\n",
      "---------------------------\n",
      "---------------------------\n",
      "/home/kss/Downloads/Code/image0/vFG66.png\n",
      "/home/kss/Downloads/Code/image2/result25.jpg\n",
      "---------------------------\n",
      "---------------------------\n",
      "/home/kss/Downloads/Code/image0/vFG66.png\n",
      "/home/kss/Downloads/Code/image2/result20.jpg\n",
      "---------------------------\n",
      "---------------------------\n",
      "/home/kss/Downloads/Code/image0/vFG66.png\n",
      "/home/kss/Downloads/Code/image2/result10.jpg\n",
      "---------------------------\n",
      "---------------------------\n",
      "/home/kss/Downloads/Code/image0/vFG66.png\n",
      "/home/kss/Downloads/Code/image2/result27.jpg\n",
      "---------------------------\n",
      "---------------------------\n",
      "/home/kss/Downloads/Code/image0/vFG66.png\n",
      "/home/kss/Downloads/Code/image2/result6.jpg\n",
      "---------------------------\n",
      "---------------------------\n",
      "/home/kss/Downloads/Code/image0/vFG66.png\n",
      "/home/kss/Downloads/Code/image2/result0.jpg\n",
      "---------------------------\n",
      "---------------------------\n",
      "/home/kss/Downloads/Code/image0/vFG66.png\n",
      "/home/kss/Downloads/Code/image2/result17.jpg\n",
      "---------------------------\n",
      "---------------------------\n",
      "/home/kss/Downloads/Code/image0/vFG66.png\n",
      "/home/kss/Downloads/Code/image2/result29.jpg\n",
      "---------------------------\n",
      "---------------------------\n",
      "/home/kss/Downloads/Code/image0/vFG66.png\n",
      "/home/kss/Downloads/Code/image2/result1.jpg\n",
      "---------------------------\n",
      "---------------------------\n",
      "/home/kss/Downloads/Code/image0/vFG66.png\n",
      "/home/kss/Downloads/Code/image2/result26.jpg\n",
      "---------------------------\n",
      "---------------------------\n",
      "/home/kss/Downloads/Code/image0/vFG66.png\n",
      "/home/kss/Downloads/Code/image2/result9.jpg\n",
      "---------------------------\n",
      "---------------------------\n",
      "/home/kss/Downloads/Code/image0/vFG66.png\n",
      "/home/kss/Downloads/Code/image2/result28.jpg\n",
      "---------------------------\n",
      "---------------------------\n",
      "/home/kss/Downloads/Code/image0/vFG66.png\n",
      "/home/kss/Downloads/Code/image2/result21.jpg\n",
      "---------------------------\n",
      "---------------------------\n",
      "/home/kss/Downloads/Code/image0/vFG66.png\n",
      "/home/kss/Downloads/Code/image2/result15.jpg\n",
      "---------------------------\n",
      "---------------------------\n",
      "/home/kss/Downloads/Code/image0/vFG66.png\n",
      "/home/kss/Downloads/Code/image2/result19.jpg\n",
      "---------------------------\n",
      "---------------------------\n",
      "/home/kss/Downloads/Code/image0/vFG66.png\n",
      "/home/kss/Downloads/Code/image2/result12.jpg\n",
      "---------------------------\n",
      "---------------------------\n",
      "/home/kss/Downloads/Code/image0/vFG66.png\n",
      "/home/kss/Downloads/Code/image2/result2.jpg\n",
      "---------------------------\n",
      "---------------------------\n",
      "/home/kss/Downloads/Code/image0/vFG66.png\n",
      "/home/kss/Downloads/Code/image2/result11.jpg\n",
      "---------------------------\n",
      "---------------------------\n",
      "/home/kss/Downloads/Code/image0/vFG66.png\n",
      "/home/kss/Downloads/Code/image2/result23.jpg\n",
      "---------------------------\n",
      "---------------------------\n",
      "/home/kss/Downloads/Code/image0/vFG66.png\n",
      "/home/kss/Downloads/Code/image2/result22.jpg\n",
      "---------------------------\n",
      "---------------------------\n",
      "/home/kss/Downloads/Code/image0/vFG66.png\n",
      "/home/kss/Downloads/Code/image2/result5.jpg\n",
      "---------------------------\n",
      "---------------------------\n",
      "/home/kss/Downloads/Code/image0/vFG66.png\n",
      "/home/kss/Downloads/Code/image2/result3.jpg\n",
      "---------------------------\n",
      "---------------------------\n",
      "/home/kss/Downloads/Code/image0/vFG66.png\n",
      "/home/kss/Downloads/Code/image2/result7.jpg\n",
      "---------------------------\n",
      "---------------------------\n",
      "/home/kss/Downloads/Code/image0/vFG66.png\n",
      "/home/kss/Downloads/Code/image2/result18.jpg\n",
      "---------------------------\n",
      "---------------------------\n",
      "/home/kss/Downloads/Code/image0/vFG66.png\n",
      "/home/kss/Downloads/Code/image2/result16.jpg\n",
      "---------------------------\n",
      "---------------------------\n",
      "/home/kss/Downloads/Code/image0/vFG66.png\n",
      "/home/kss/Downloads/Code/image2/result8.jpg\n",
      "---------------------------\n",
      "---------------------------\n",
      "/home/kss/Downloads/Code/image0/vFG66.png\n",
      "/home/kss/Downloads/Code/image2/result13.jpg\n",
      "---------------------------\n"
     ]
    },
    {
     "data": {
      "text/plain": [
       "[]"
      ]
     },
     "execution_count": 28,
     "metadata": {},
     "output_type": "execute_result"
    }
   ],
   "source": [
    "# 原图片路径\n",
    "image_path = \"/home/kss/Downloads/Code/image0/vFG66.png\"\n",
    "# 生成图片的文件夹路径\n",
    "image_folder_path = \"/home/kss/Downloads/Code/image2\"\n",
    "values = get_batch_arcface_value(source_image_path=image_path, target_image_folder_path=image_folder_path)\n",
    "print(f\"ArcFace values:{values}\")"
   ]
  }
 ],
 "metadata": {
  "kernelspec": {
   "display_name": "Python 3.10.6 64-bit",
   "language": "python",
   "name": "python3"
  },
  "language_info": {
   "codemirror_mode": {
    "name": "ipython",
    "version": 3
   },
   "file_extension": ".py",
   "mimetype": "text/x-python",
   "name": "python",
   "nbconvert_exporter": "python",
   "pygments_lexer": "ipython3",
   "version": "3.10.6"
  },
  "orig_nbformat": 4,
  "vscode": {
   "interpreter": {
    "hash": "aee8b7b246df8f9039afb4144a1f6fd8d2ca17a180786b69acc140d282b71a49"
   }
  }
 },
 "nbformat": 4,
 "nbformat_minor": 2
}
