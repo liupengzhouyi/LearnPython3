{
 "nbformat": 4,
 "nbformat_minor": 0,
 "metadata": {
  "colab": {
   "name": "实验三 计算 k 位数的随机算法.ipynb",
   "provenance": [],
   "collapsed_sections": [],
   "toc_visible": true,
   "authorship_tag": "ABX9TyOWCNj0MGbE2wczY3SoW9ly",
   "include_colab_link": true
  },
  "kernelspec": {
   "name": "python3",
   "display_name": "Python 3"
  }
 },
 "cells": [
  {
   "cell_type": "markdown",
   "metadata": {
    "id": "view-in-github",
    "colab_type": "text"
   },
   "source": [
    "<a href=\"https://colab.research.google.com/github/liupengzhouyi/LearnPython3/blob/master/limingxiu/%E5%AE%9E%E9%AA%8C%E4%B8%89_%E8%AE%A1%E7%AE%97_k_%E4%BD%8D%E6%95%B0%E7%9A%84%E9%9A%8F%E6%9C%BA%E7%AE%97%E6%B3%95.ipynb\" target=\"_parent\"><img src=\"https://colab.research.google.com/assets/colab-badge.svg\" alt=\"Open In Colab\"/></a>"
   ]
  },
  {
   "cell_type": "markdown",
   "source": [],
   "metadata": {
    "collapsed": false
   }
  },
  {
   "cell_type": "markdown",
   "source": [
    "# 实验三:计算 k 位数的随机算法"
   ],
   "metadata": {
    "collapsed": false
   }
  },
  {
   "cell_type": "markdown",
   "source": [
    "## 1. 实验目的\n",
    "1、掌握分治算法和随机算法的设计思想与方法\n",
    "\n",
    "2、熟练使用高级编程语言实现分治算法和随机算法\n",
    "\n",
    "3、通过对比不同参数，理解算法具体原理，理解分治算法和随机算法"
   ],
   "metadata": {
    "collapsed": false
   }
  },
  {
   "cell_type": "markdown",
   "source": [],
   "metadata": {
    "collapsed": false
   }
  },
  {
   "cell_type": "markdown",
   "source": [
    "## 2. 实验学时\n",
    "4 学时。"
   ],
   "metadata": {
    "collapsed": false
   }
  },
  {
   "cell_type": "markdown",
   "source": [
    "## 3. 实验问题\n",
    "\n",
    "输入:乱序实数数组𝐴 = {𝑥1, 𝑥2, . . . , 𝑥𝑛}\n",
    "\n",
    "输出:𝐴的第 k 小元素(详情请见课件分治算法、随机算法)"
   ],
   "metadata": {
    "collapsed": false
   }
  },
  {
   "cell_type": "markdown",
   "source": [
    "## 4. 实验步骤"
   ],
   "metadata": {
    "collapsed": false
   }
  },
  {
   "cell_type": "markdown",
   "source": [
    "### 4.1 实现基于分治方法的 k 位数算法\n",
    "> 提示:参考第三章 3.5 节。"
   ],
   "metadata": {
    "collapsed": false
   }
  },
  {
   "cell_type": "markdown",
   "source": [
    "#### 流程"
   ],
   "metadata": {
    "collapsed": false
   }
  },
  {
   "cell_type": "markdown",
   "source": [
    "#### 数据生成"
   ],
   "metadata": {
    "collapsed": false
   }
  },
  {
   "cell_type": "markdown",
   "source": [
    "#### 核心代码"
   ],
   "metadata": {
    "collapsed": false
   }
  },
  {
   "cell_type": "markdown",
   "source": [
    "#### 效果"
   ],
   "metadata": {
    "collapsed": false
   }
  },
  {
   "cell_type": "markdown",
   "source": [
    "### 实现基于随机方法的 k 位数算法\n",
    "> 提示:参考第七章 7.3 节。"
   ],
   "metadata": {
    "collapsed": false
   }
  },
  {
   "cell_type": "markdown",
   "source": [
    "#### 流程"
   ],
   "metadata": {
    "collapsed": false
   }
  },
  {
   "cell_type": "markdown",
   "source": [
    "#### 数据生成"
   ],
   "metadata": {
    "collapsed": false
   }
  },
  {
   "cell_type": "markdown",
   "source": [
    "#### 核心代码"
   ],
   "metadata": {
    "collapsed": false
   }
  },
  {
   "cell_type": "markdown",
   "source": [
    "#### 效果"
   ],
   "metadata": {
    "collapsed": false
   }
  },
  {
   "cell_type": "markdown",
   "source": [
    "### 4.3 对比两种 k 位数算法\n",
    "\n",
    "(1)随机生成大小不同数据集合，如大小分别为(1000，2000，5000，10000， 20000, 50000, 100000)的数据集合;\n",
    "\n",
    "(2)对每个算法，针对不同大小的数据集合，运行算法 1000 次并记录算法运行 的平均时间;\n",
    "\n",
    "(3)将得到的运行时间绘制成曲线，分析并比较两种不同的算法。\n"
   ],
   "metadata": {
    "collapsed": false
   }
  },
  {
   "cell_type": "markdown",
   "source": [
    "### 4.4 随机算法参数分析"
   ],
   "metadata": {
    "collapsed": false
   }
  },
  {
   "cell_type": "markdown",
   "source": [
    "(1)改变随机 k 位数算法的采样比例(原始是 3/4)，分别为(1/8，1/4，3/8，...， 7/8，1);\n",
    "> 注:|𝑃| ≤ 4𝑛3/4 + 1此处的 3/4 亦需要修改。\n"
   ],
   "metadata": {
    "collapsed": false
   }
  },
  {
   "cell_type": "markdown",
   "source": [
    "(2)点数规模是 50000，运行算法 1000 次，记录第一次运行算法可以得到 k 位数的次数和运行一次算法的平均时间; (3)将一次运行得到正确结果的概率和运行时间绘制成曲线，分析并比较。"
   ],
   "metadata": {
    "collapsed": false
   }
  },
  {
   "cell_type": "markdown",
   "source": [],
   "metadata": {
    "collapsed": false
   }
  }
 ]
}