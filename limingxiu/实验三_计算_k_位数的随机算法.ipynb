{
  "nbformat": 4,
  "nbformat_minor": 0,
  "metadata": {
    "colab": {
      "name": "实验三_计算_k_位数的随机算法.ipynb",
      "provenance": [],
      "collapsed_sections": [],
      "toc_visible": true,
      "include_colab_link": true
    },
    "kernelspec": {
      "name": "python3",
      "display_name": "Python 3"
    },
    "accelerator": "TPU"
  },
  "cells": [
    {
      "cell_type": "markdown",
      "metadata": {
        "id": "view-in-github",
        "colab_type": "text"
      },
      "source": [
        "<a href=\"https://colab.research.google.com/github/liupengzhouyi/LearnPython3/blob/master/limingxiu/%E5%AE%9E%E9%AA%8C%E4%B8%89_%E8%AE%A1%E7%AE%97_k_%E4%BD%8D%E6%95%B0%E7%9A%84%E9%9A%8F%E6%9C%BA%E7%AE%97%E6%B3%95.ipynb\" target=\"_parent\"><img src=\"https://colab.research.google.com/assets/colab-badge.svg\" alt=\"Open In Colab\"/></a>"
      ]
    },
    {
      "cell_type": "markdown",
      "metadata": {
        "collapsed": false,
        "id": "zCvK_fByUqBt"
      },
      "source": [
        "# 实验三:计算 k 位数的随机算法"
      ]
    },
    {
      "cell_type": "markdown",
      "metadata": {
        "collapsed": false,
        "id": "P9wYx_EdUqBt"
      },
      "source": [
        "## 1. 实验目的\n",
        "1、掌握分治算法和随机算法的设计思想与方法\n",
        "\n",
        "2、熟练使用高级编程语言实现分治算法和随机算法\n",
        "\n",
        "3、通过对比不同参数，理解算法具体原理，理解分治算法和随机算法"
      ]
    },
    {
      "cell_type": "markdown",
      "metadata": {
        "collapsed": false,
        "id": "cm8kc1HDUqBt"
      },
      "source": [
        "## 2. 实验学时\n",
        "4 学时。"
      ]
    },
    {
      "cell_type": "markdown",
      "metadata": {
        "collapsed": false,
        "id": "2_yNgjyUUqBt"
      },
      "source": [
        "## 3. 实验问题\n",
        "\n",
        "输入:乱序实数数组𝐴 = {𝑥1, 𝑥2, . . . , 𝑥𝑛}\n",
        "\n",
        "输出:𝐴的第 k 小元素(详情请见课件分治算法、随机算法)"
      ]
    },
    {
      "cell_type": "markdown",
      "metadata": {
        "collapsed": false,
        "id": "3-ILtz2lUqBt"
      },
      "source": [
        "## 4. 实验步骤"
      ]
    },
    {
      "cell_type": "markdown",
      "metadata": {
        "collapsed": false,
        "id": "Z2N70nnvUqBt"
      },
      "source": [
        "### 4.1 实现基于分治方法的 k 位数算法\n",
        "> 提示:参考第三章 3.5 节。\n",
        "* BFPRT算法\n"
      ]
    },
    {
      "cell_type": "markdown",
      "metadata": {
        "collapsed": false,
        "id": "GGs4v6LcUqBt"
      },
      "source": [
        "#### 流程"
      ]
    },
    {
      "cell_type": "markdown",
      "metadata": {
        "collapsed": false,
        "id": "faeLBPB_UqBt"
      },
      "source": [
        "#### 数据生成"
      ]
    },
    {
      "cell_type": "code",
      "metadata": {
        "id": "u_d4Il1CUu3U"
      },
      "source": [
        "import random\n",
        "num = 100\n",
        "array = [random.randint(1, 1000000) for i in range(num)]\n",
        "random.shuffle(array) #打散数据\n",
        "random.shuffle(array) #再次打散数据"
      ],
      "execution_count": null,
      "outputs": []
    },
    {
      "cell_type": "markdown",
      "metadata": {
        "collapsed": false,
        "id": "Y5ID-p7oUqBt"
      },
      "source": [
        "#### 核心代码"
      ]
    },
    {
      "cell_type": "code",
      "metadata": {
        "id": "0pRsbsNFVOVX"
      },
      "source": [
        "#寻找第K小的数\n",
        "def select_fctI(array,k):\n",
        "    if len(array)<=10:#边界条件\n",
        "        array=sorted(array)\n",
        "        return array[k]\n",
        "    pivot=get_pivotI(array)  #得到支点数\n",
        "    array_lt,array_gt,array_eq=patition_arrayI(array,pivot)#按照支点数划分\n",
        "    if k<len(array_lt):#所求数在支点数的左边\n",
        "        return select_fctI(array_lt,k)#递归执行，排序为k\n",
        "    elif k<len(array_lt)+len(array_eq):#所求数为支点数\n",
        "        return array_eq[0]\n",
        "    else:#所求数在支点数的右边\n",
        "        normalized_k=k-(len(array_lt)+len(array_eq))#此时排序发生变化，不是k，而需要经过变化\n",
        "        return select_fctI(array_gt,normalized_k)\n",
        "\n",
        "#得到支点数\n",
        "def get_pivotI(array):\n",
        "    subset_size = 5#每一组有5个元素\n",
        "    subsets = []#用于记录各组元素\n",
        "    num_medians = len(array) / subset_size\n",
        "    if (len(array) % subset_size) > 0:\n",
        "        num_medians += 1 #不能被5整除\n",
        "    for i in range(int(num_medians)):#划分为若干个组，每组5个元素\n",
        "        beg = i * subset_size\n",
        "        end = min(len(array), beg + subset_size)\n",
        "        subset = array[beg:end]\n",
        "        subsets.append(subset)#subsets列表格式如下[[len=5]，[],[]......]\n",
        "    medians = []\n",
        "    for subset in subsets:\n",
        "        median = select_fctI(subset, len(subset) // 2)\n",
        "        medians.append(median)#格式为[a,b,c]，构成中间数列表\n",
        "    pivot = select_fctI(medians, len(subset) // 2)#再从中间数列表中找出中间数\n",
        "    return pivot\n",
        "\n",
        "# 按照支点数划分数组\n",
        "def patition_arrayI(array, pivot):\n",
        "    array_lt = []\n",
        "    array_gt = []\n",
        "    array_eq = []\n",
        "    for item in array:\n",
        "        if item < pivot:\n",
        "            array_lt.append(item)#小于中间数的放左边\n",
        "        elif item > pivot:\n",
        "            array_gt.append(item)#大于中间数的放右边\n",
        "        else:\n",
        "            array_eq.append(item)#等于中间数的储存一个列表\n",
        "    return array_lt, array_gt, array_eq\n"
      ],
      "execution_count": null,
      "outputs": []
    },
    {
      "cell_type": "markdown",
      "metadata": {
        "collapsed": false,
        "id": "QnHdisbcUqBt"
      },
      "source": [
        "#### 效果"
      ]
    },
    {
      "cell_type": "code",
      "metadata": {
        "colab": {
          "base_uri": "https://localhost:8080/"
        },
        "id": "qs09Q3uyVTEh",
        "outputId": "68b1f505-3193-4f86-adeb-a8bfe67c2299"
      },
      "source": [
        "import time;\n",
        "def getMS():\n",
        "    t = time.time()\n",
        "    a = str(int(round(t * 1000000)))    #微秒级时间戳\n",
        "    return a\n",
        "\n",
        "k = 7\n",
        "a = getMS()\n",
        "kval = select_fctI(array, k)#调用函数\n",
        "b = getMS()\n",
        "print(kval)\n",
        "\n",
        "sorted_array = sorted(array)\n",
        "if sorted_array[k] == kval: #进行验证\n",
        "    print('OK')\n",
        "\n",
        "print(b,'-',a, '=', int(b)-int(a))"
      ],
      "execution_count": null,
      "outputs": [
        {
          "output_type": "stream",
          "text": [
            "102223\n",
            "OK\n",
            "1606821964683768 - 1606821964683602 = 166\n"
          ],
          "name": "stdout"
        }
      ]
    },
    {
      "cell_type": "markdown",
      "metadata": {
        "collapsed": false,
        "id": "YUkWQ9WOUqBt"
      },
      "source": [
        "### 4.2 实现基于随机方法的 k 位数算法\n",
        "> 提示:参考第七章 7.3 节。"
      ]
    },
    {
      "cell_type": "markdown",
      "metadata": {
        "collapsed": false,
        "id": "5PYYnZkHUqBt"
      },
      "source": [
        "#### 流程"
      ]
    },
    {
      "cell_type": "markdown",
      "metadata": {
        "id": "lwWg8xYsXNKH"
      },
      "source": [
        "1. 在数据中随机一位做标点x　\n",
        "2. 分成三组数据\n",
        "    * 小于 x\n",
        "    * 等于 x\n",
        "    * 大于 x\n",
        "3. 判断所求在那一组数据中\n",
        "4. 递归，直至出结果\n"
      ]
    },
    {
      "cell_type": "markdown",
      "metadata": {
        "collapsed": false,
        "id": "fb9_-oWfUqBt"
      },
      "source": [
        "#### 数据生成"
      ]
    },
    {
      "cell_type": "code",
      "metadata": {
        "colab": {
          "base_uri": "https://localhost:8080/"
        },
        "id": "p9hmncLngxjt",
        "outputId": "b3e8a74f-92d9-444a-a640-116e09ed55be"
      },
      "source": [
        "import random\n",
        "num = 200\n",
        "array = [random.randint(1, 1000000) for i in range(num)]\n",
        "print(len(array))\n",
        "random.shuffle(array)#打散数据\n",
        "random.shuffle(array)#再次打散数据"
      ],
      "execution_count": null,
      "outputs": [
        {
          "output_type": "stream",
          "text": [
            "200\n"
          ],
          "name": "stdout"
        }
      ]
    },
    {
      "cell_type": "markdown",
      "metadata": {
        "collapsed": false,
        "id": "uOFkDjchUqBt"
      },
      "source": [
        "#### 核心代码"
      ]
    },
    {
      "cell_type": "code",
      "metadata": {
        "id": "EJQpMwrWg2fX"
      },
      "source": [
        "#寻找第K小的数\n",
        "def select_fctII(array,k):\n",
        "    if len(array)<=10:#边界条件\n",
        "        array=sorted(array)\n",
        "        return array[k]\n",
        "    pivot = array[random.randint(0, len(array))-1] #得到支点数\n",
        "    array_lt,array_gt,array_eq=patition_arrayII(array,pivot)#按照支点数划分\n",
        "    if k<len(array_lt): #所求数在支点数的左边\n",
        "        return select_fctII(array_lt, k) #递归执行，排序为k\n",
        "\n",
        "    elif k<len(array_lt)+len(array_eq): #所求数为支点数\n",
        "        return array_eq[0]\n",
        "\n",
        "    else:#所求数在支点数的右边\n",
        "        normalized_k=k-(len(array_lt)+len(array_eq))#此时排序发生变化，不是k，而需要经过变化\n",
        "        return select_fctII(array_gt,normalized_k)\n",
        "\n",
        "# 按照支点数划分数组\n",
        "def patition_arrayII(array, pivot):\n",
        "    array_lt = []\n",
        "    array_gt = []\n",
        "    array_eq = []\n",
        "    for item in array:\n",
        "        if item < pivot:\n",
        "            array_lt.append(item)#小于中间数的放左边\n",
        "        elif item > pivot:\n",
        "            array_gt.append(item)#大于中间数的放右边\n",
        "        else:\n",
        "            array_eq.append(item)#等于中间数的储存一个列表\n",
        "    return array_lt, array_gt, array_eq"
      ],
      "execution_count": null,
      "outputs": []
    },
    {
      "cell_type": "markdown",
      "metadata": {
        "collapsed": false,
        "id": "G7zL7t8UUqBt"
      },
      "source": [
        "#### 效果"
      ]
    },
    {
      "cell_type": "code",
      "metadata": {
        "colab": {
          "base_uri": "https://localhost:8080/"
        },
        "id": "79KLdMbfz2nC",
        "outputId": "7533af38-6124-4258-cf7a-027e0a3e4d86"
      },
      "source": [
        "import time;\n",
        "def getMS():\n",
        "    t = time.time()\n",
        "    a = str(int(round(t * 1000000)))    #微秒级时间戳\n",
        "    return a\n",
        "\n",
        "k = 7\n",
        "a = getMS()\n",
        "kval = select_fctII(array, k)#调用函数\n",
        "b = getMS()\n",
        "print(kval)\n",
        "\n",
        "sorted_array = sorted(array)\n",
        "if sorted_array[k] == kval: #进行验证\n",
        "    print('OK')\n",
        "\n",
        "print(b,'-',a, '=', int(b)-int(a))"
      ],
      "execution_count": null,
      "outputs": [
        {
          "output_type": "stream",
          "text": [
            "49844\n",
            "OK\n",
            "1606821976387899 - 1606821976387670 = 229\n"
          ],
          "name": "stdout"
        }
      ]
    },
    {
      "cell_type": "markdown",
      "metadata": {
        "collapsed": false,
        "id": "fcqY6p_uUqBt"
      },
      "source": [
        "### 4.3 对比两种 k 位数算法\n",
        "\n",
        "(1)随机生成大小不同数据集合，如大小分别为(1000，2000，5000，10000， 20000, 50000, 100000)的数据集合;\n",
        "\n",
        "(2)对每个算法，针对不同大小的数据集合，运行算法 1000 次并记录算法运行 的平均时间;\n",
        "\n",
        "(3)将得到的运行时间绘制成曲线，分析并比较两种不同的算法。\n"
      ]
    },
    {
      "cell_type": "code",
      "metadata": {
        "colab": {
          "base_uri": "https://localhost:8080/",
          "height": 676
        },
        "id": "Z_igEzU03N60",
        "outputId": "4c0271a4-42d7-4c1a-a635-31cb84ba7318"
      },
      "source": [
        "boundarys = [1000, 2000, 5000, 10000, 20000, 50000, 100000]\n",
        "avgTimesI = []\n",
        "avgTimesII = []\n",
        "times = 10\n",
        "k = 7\n",
        "for boundary in boundarys:\n",
        "    print(boundary,': ')\n",
        "    sumTimeI = 0\n",
        "    sumTimeII = 0\n",
        "    for i in range(times):\n",
        "        num = boundary\n",
        "        array = [random.randint(1, 1000000) for i in range(num)]\n",
        "        random.shuffle(array)#打散数据\n",
        "        random.shuffle(array)#再次打散数据\n",
        "        \n",
        "        # 分治\n",
        "        aI = getMS()\n",
        "        kval = select_fctI(array, k)#调用函数\n",
        "        bI = getMS()\n",
        "        sumTimeI = sumTimeI + int(bI)-int(aI)\n",
        "        avgTimeI = sumTimeI/times/1000\n",
        "\n",
        "        # 随机\n",
        "        aII = getMS()\n",
        "        kval = select_fctII(array, k)#调用函数\n",
        "        bII = getMS()\n",
        "        sumTimeII = sumTimeII + int(bII)-int(aII)\n",
        "        avgTimeII = sumTimeII/times/1000\n",
        "\n",
        "\n",
        "    print('sumTime:', sumTimeI, ', avgTime:', avgTimeI)\n",
        "    print('sumTime:', sumTimeII, ', avgTime:', avgTimeII)\n",
        "    avgTimesI.append(avgTimeI)\n",
        "    avgTimesII.append(avgTimeII)\n",
        "\n",
        "\n",
        "import numpy as np\n",
        "import matplotlib.pyplot as plt\n",
        " \n",
        "x=[0,1]\n",
        "y=[0,1]\n",
        "plt.figure()\n",
        "plt.plot(boundarys,avgTimesI, color='R')\n",
        "plt.plot(boundarys,avgTimesII, color='B')\n",
        "plt.show()"
      ],
      "execution_count": null,
      "outputs": [
        {
          "output_type": "stream",
          "text": [
            "1000 : \n",
            "sumTime: 5222 , avgTime: 0.5222\n",
            "sumTime: 2082 , avgTime: 0.2082\n",
            "2000 : \n",
            "sumTime: 10384 , avgTime: 1.0384\n",
            "sumTime: 4429 , avgTime: 0.44289999999999996\n",
            "5000 : \n",
            "sumTime: 26673 , avgTime: 2.6673\n",
            "sumTime: 10632 , avgTime: 1.0632000000000001\n",
            "10000 : \n",
            "sumTime: 48716 , avgTime: 4.8716\n",
            "sumTime: 16407 , avgTime: 1.6407\n",
            "20000 : \n",
            "sumTime: 103956 , avgTime: 10.3956\n",
            "sumTime: 47916 , avgTime: 4.791600000000001\n",
            "50000 : \n",
            "sumTime: 380658 , avgTime: 38.0658\n",
            "sumTime: 125466 , avgTime: 12.5466\n",
            "100000 : \n",
            "sumTime: 753855 , avgTime: 75.3855\n",
            "sumTime: 265009 , avgTime: 26.5009\n"
          ],
          "name": "stdout"
        },
        {
          "output_type": "stream",
          "text": [
            "/usr/local/lib/python3.6/dist-packages/IPython/core/pylabtools.py:125: MatplotlibDeprecationWarning: Support for uppercase single-letter colors is deprecated since Matplotlib 3.1 and will be removed in 3.3; please use lowercase instead.\n",
            "  fig.canvas.print_figure(bytes_io, **kw)\n"
          ],
          "name": "stderr"
        },
        {
          "output_type": "display_data",
          "data": {
            "image/png": "[encoded data removed]",
            "text/plain": [
              "<Figure size 432x288 with 1 Axes>"
            ]
          },
          "metadata": {
            "tags": [],
            "needs_background": "light"
          }
        }
      ]
    },
    {
      "cell_type": "markdown",
      "metadata": {
        "id": "npHL-9Ea-Cs6"
      },
      "source": [
        "* 结论：\n",
        "* 蓝色为随机\n",
        "* 红色为分治\n",
        "* 数据量越大，随机比分治的效率越高"
      ]
    },
    {
      "cell_type": "markdown",
      "metadata": {
        "collapsed": false,
        "id": "lPIo2QQ0UqBt"
      },
      "source": [
        "### 4.4 随机算法参数分析"
      ]
    },
    {
      "cell_type": "markdown",
      "metadata": {
        "collapsed": false,
        "id": "nRwsofJuUqBt"
      },
      "source": [
        "(1)改变随机 k 位数算法的采样比例(原始是 3/4)，分别为(1/8，1/4，3/8，...， 7/8，1);\n",
        "> 注:|𝑃| ≤ 4𝑛3/4 + 1此处的 3/4 亦需要修改。\n",
        "\n",
        "(2)点数规模是 50000，运行算法 1000 次，记录第一次运行算法可以得到 k 位数的次数和运行一次算法的平均时间; \n",
        "\n",
        "(3)将一次运行得到正确结果的概率和运行时间绘制成曲线，分析并比较。\n"
      ]
    },
    {
      "cell_type": "code",
      "metadata": {
        "colab": {
          "base_uri": "https://localhost:8080/"
        },
        "id": "PZsavXC0A3zt",
        "outputId": "36622bac-975c-42f4-f9a7-608da3535c35"
      },
      "source": [
        "import random\n",
        "allTime = 0\n",
        "array = [random.randint(1, 1000000) for i in range(500)]\n",
        "random.shuffle(array)#打散数据\n",
        "random.shuffle(array)#再次打散数据\n",
        "sumTimeII = 0\n",
        "\n",
        "def select_fctIII(array,k):\n",
        "    if len(array)<=10:#边界条件\n",
        "        array=sorted(array)\n",
        "        return array[k]\n",
        "    pivot = array[random.randint(0, len(array))-1] #得到支点数\n",
        "    array_lt,array_gt,array_eq=patition_arrayII(array,pivot)#按照支点数划分\n",
        "    if k<len(array_lt): #所求数在支点数的左边\n",
        "        return select_fctIII(array_lt, k) #递归执行，排序为k\n",
        "\n",
        "    elif k<len(array_lt)+len(array_eq): #所求数为支点数\n",
        "        if len(array) == 50000:\n",
        "            allTime = allTime + 1\n",
        "        return array_eq[0]\n",
        "\n",
        "    else:#所求数在支点数的右边\n",
        "        normalized_k=k-(len(array_lt)+len(array_eq))#此时排序发生变化，不是k，而需要经过变化\n",
        "        return select_fctIII(array_gt,normalized_k)\n",
        "\n",
        "for i in range(100000):\n",
        "    \n",
        "    aII = getMS()\n",
        "    kval = select_fctIII(array, k)#调用函数\n",
        "    bII = getMS()\n",
        "    sumTimeII = sumTimeII + int(bII)-int(aII)\n",
        "    avgTimeII = sumTimeII/times/1000\n",
        "\n",
        "print('sumTime:', sumTimeII, ', avgTime:', avgTimeII)\n",
        "avgTimesII.append(avgTimeII)\n",
        "print(allTime)\n",
        "print('一次运行得到正确结果的概率:', allTime/1000, '%')\n",
        "print('运行一次算法的平均时间:', avgTimeII)\n"
      ],
      "execution_count": null,
      "outputs": [
        {
          "output_type": "stream",
          "text": [
            "sumTime: 11579343 , avgTime: 1157.9343000000001\n",
            "0\n",
            "一次运行得到正确结果的概率: 0.0 %\n",
            "运行一次算法的平均时间: 1157.9343000000001\n"
          ],
          "name": "stdout"
        }
      ]
    },
    {
      "cell_type": "markdown",
      "metadata": {
        "collapsed": false,
        "id": "TDLalGKBUqBt"
      },
      "source": [
        ""
      ]
    }
  ]
}