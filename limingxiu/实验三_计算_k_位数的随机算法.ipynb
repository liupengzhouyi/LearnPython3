{
  "nbformat": 4,
  "nbformat_minor": 0,
  "metadata": {
    "colab": {
      "name": "实验三_计算_k_位数的随机算法.ipynb",
      "provenance": [],
      "collapsed_sections": [],
      "toc_visible": true,
      "include_colab_link": true
    },
    "kernelspec": {
      "name": "python3",
      "display_name": "Python 3"
    }
  },
  "cells": [
    {
      "cell_type": "markdown",
      "metadata": {
        "id": "view-in-github",
        "colab_type": "text"
      },
      "source": [
        "<a href=\"https://colab.research.google.com/github/liupengzhouyi/LearnPython3/blob/master/limingxiu/%E5%AE%9E%E9%AA%8C%E4%B8%89_%E8%AE%A1%E7%AE%97_k_%E4%BD%8D%E6%95%B0%E7%9A%84%E9%9A%8F%E6%9C%BA%E7%AE%97%E6%B3%95.ipynb\" target=\"_parent\"><img src=\"https://colab.research.google.com/assets/colab-badge.svg\" alt=\"Open In Colab\"/></a>"
      ]
    },
    {
      "cell_type": "markdown",
      "metadata": {
        "collapsed": false,
        "id": "zCvK_fByUqBt"
      },
      "source": [
        "# 实验三:计算 k 位数的随机算法"
      ]
    },
    {
      "cell_type": "markdown",
      "metadata": {
        "collapsed": false,
        "id": "P9wYx_EdUqBt"
      },
      "source": [
        "## 1. 实验目的\n",
        "1、掌握分治算法和随机算法的设计思想与方法\n",
        "\n",
        "2、熟练使用高级编程语言实现分治算法和随机算法\n",
        "\n",
        "3、通过对比不同参数，理解算法具体原理，理解分治算法和随机算法"
      ]
    },
    {
      "cell_type": "markdown",
      "metadata": {
        "collapsed": false,
        "id": "OCuCH6cNUqBt"
      },
      "source": [
        ""
      ]
    },
    {
      "cell_type": "markdown",
      "metadata": {
        "collapsed": false,
        "id": "cm8kc1HDUqBt"
      },
      "source": [
        "## 2. 实验学时\n",
        "4 学时。"
      ]
    },
    {
      "cell_type": "markdown",
      "metadata": {
        "collapsed": false,
        "id": "2_yNgjyUUqBt"
      },
      "source": [
        "## 3. 实验问题\n",
        "\n",
        "输入:乱序实数数组𝐴 = {𝑥1, 𝑥2, . . . , 𝑥𝑛}\n",
        "\n",
        "输出:𝐴的第 k 小元素(详情请见课件分治算法、随机算法)"
      ]
    },
    {
      "cell_type": "markdown",
      "metadata": {
        "collapsed": false,
        "id": "3-ILtz2lUqBt"
      },
      "source": [
        "## 4. 实验步骤"
      ]
    },
    {
      "cell_type": "markdown",
      "metadata": {
        "collapsed": false,
        "id": "Z2N70nnvUqBt"
      },
      "source": [
        "### 4.1 实现基于分治方法的 k 位数算法\n",
        "> 提示:参考第三章 3.5 节。"
      ]
    },
    {
      "cell_type": "markdown",
      "metadata": {
        "collapsed": false,
        "id": "GGs4v6LcUqBt"
      },
      "source": [
        "#### 流程"
      ]
    },
    {
      "cell_type": "markdown",
      "metadata": {
        "collapsed": false,
        "id": "faeLBPB_UqBt"
      },
      "source": [
        "#### 数据生成"
      ]
    },
    {
      "cell_type": "code",
      "metadata": {
        "id": "u_d4Il1CUu3U"
      },
      "source": [
        "import random\n",
        "num = 100\n",
        "array = [random.randint(1, 1000) for i in range(num)]\n",
        "random.shuffle(array) #打散数据\n",
        "random.shuffle(array) #再次打散数据"
      ],
      "execution_count": 2,
      "outputs": []
    },
    {
      "cell_type": "markdown",
      "metadata": {
        "collapsed": false,
        "id": "Y5ID-p7oUqBt"
      },
      "source": [
        "#### 核心代码"
      ]
    },
    {
      "cell_type": "code",
      "metadata": {
        "id": "0pRsbsNFVOVX"
      },
      "source": [
        "#寻找第K小的数\n",
        "def select_fct(array,k):\n",
        "    if len(array)<=10:#边界条件\n",
        "        array=sorted(array)\n",
        "        return array[k]\n",
        "    pivot=get_pivot(array)  #得到支点数\n",
        "    array_lt,array_gt,array_eq=patition_array(array,pivot)#按照支点数划分\n",
        "    if k<len(array_lt):#所求数在支点数的左边\n",
        "        return select_fct(array_lt,k)#递归执行，排序为k\n",
        "    elif k<len(array_lt)+len(array_eq):#所求数为支点数\n",
        "        return array_eq[0]\n",
        "    else:#所求数在支点数的右边\n",
        "        normalized_k=k-(len(array_lt)+len(array_eq))#此时排序发生变化，不是k，而需要经过变化\n",
        "        return select_fct(array_gt,normalized_k)\n",
        "\n",
        "#得到支点数\n",
        "def get_pivot(array):\n",
        "    subset_size = 5#每一组有5个元素\n",
        "    subsets = []#用于记录各组元素\n",
        "    num_medians = len(array) / subset_size\n",
        "    if (len(array) % subset_size) > 0:\n",
        "        num_medians += 1 #不能被5整除\n",
        "    for i in range(num_medians):#划分为若干个组，每组5个元素\n",
        "        beg = i * subset_size\n",
        "        end = min(len(array), beg + subset_size)\n",
        "        subset = array[beg:end]\n",
        "        subsets.append(subset)#subsets列表格式如下[[]，[],[]......]\n",
        "    medians = []\n",
        "    for subset in subsets:\n",
        "        median = select_fct(subset, len(subset) // 2)\n",
        "        medians.append(median)#格式为[a,b,c]，构成中间数列表\n",
        "    pivot = select_fct(medians, len(subset) // 2)#再从中间数列表中找出中间数\n",
        "    return pivot\n",
        "\n",
        "# 按照支点数划分数组\n",
        "def patition_array(array, pivot):\n",
        "    array_lt = []\n",
        "    array_gt = []\n",
        "    array_eq = []\n",
        "    for item in array:\n",
        "        if item < pivot:\n",
        "            array_lt.append(item)#小于中间数的放左边\n",
        "        elif item > pivot:\n",
        "            array_gt.append(item)#大于中间数的放右边\n",
        "        else:\n",
        "            array_eq.append(item)#等于中间数的储存一个列表\n",
        "    return array_lt, array_gt, array_eq\n"
      ],
      "execution_count": 5,
      "outputs": []
    },
    {
      "cell_type": "markdown",
      "metadata": {
        "collapsed": false,
        "id": "QnHdisbcUqBt"
      },
      "source": [
        "#### 效果"
      ]
    },
    {
      "cell_type": "code",
      "metadata": {
        "colab": {
          "base_uri": "https://localhost:8080/"
        },
        "id": "qs09Q3uyVTEh",
        "outputId": "7025f09c-fe27-4595-dde7-933a668de8d7"
      },
      "source": [
        "#寻找第K小的数\n",
        "def select_fct(array,k):\n",
        "    if len(array)<=10:#边界条件\n",
        "        array=sorted(array)\n",
        "        return array[k]\n",
        "    pivot=get_pivot(array)  #得到支点数\n",
        "    array_lt,array_gt,array_eq=patition_array(array,pivot)#按照支点数划分\n",
        "    if k<len(array_lt):#所求数在支点数的左边\n",
        "        return select_fct(array_lt,k)#递归执行，排序为k\n",
        "    elif k<len(array_lt)+len(array_eq):#所求数为支点数\n",
        "        return array_eq[0]\n",
        "    else:#所求数在支点数的右边\n",
        "        normalized_k=k-(len(array_lt)+len(array_eq))#此时排序发生变化，不是k，而需要经过变化\n",
        "        return select_fct(array_gt,normalized_k)\n",
        "#得到支点数\n",
        "def get_pivot(array):\n",
        "    subset_size = 5#每一组有5个元素\n",
        "    subsets = []#用于记录各组元素\n",
        "    num_medians = len(array) / subset_size\n",
        "    if (len(array) % subset_size) > 0:\n",
        "        num_medians += 1 #不能被5整除\n",
        "    for i in range(int(num_medians)):#划分为若干个组，每组5个元素\n",
        "        beg = i * subset_size\n",
        "        end = min(len(array), beg + subset_size)\n",
        "        subset = array[beg:end]\n",
        "        subsets.append(subset)#subsets列表格式如下[[]，[],[]......]\n",
        "    medians = []\n",
        "    for subset in subsets:\n",
        "        median = select_fct(subset, len(subset) // 2)\n",
        "        medians.append(median)#格式为[a,b,c]，构成中间数列表\n",
        "    pivot = select_fct(medians, len(subset) // 2)#再从中间数列表中找出中间数\n",
        "    return pivot\n",
        "\n",
        "\n",
        "# 按照支点数划分数组\n",
        "def patition_array(array, pivot):\n",
        "    array_lt = []\n",
        "    array_gt = []\n",
        "    array_eq = []\n",
        "    for item in array:\n",
        "        if item < pivot:\n",
        "            array_lt.append(item)#小于中间数的放左边\n",
        "        elif item > pivot:\n",
        "            array_gt.append(item)#大于中间数的放右边\n",
        "        else:\n",
        "            array_eq.append(item)#等于中间数的储存一个列表\n",
        "    return array_lt, array_gt, array_eq\n",
        "\n",
        "\n",
        "# 主函数\n",
        "import random\n",
        "\n",
        "\n",
        "num = 5000\n",
        "array = [random.randint(1, 1000000) for i in range(num)]\n",
        "print(len(array))\n",
        "random.shuffle(array)#打散数据\n",
        "random.shuffle(array)#再次打散数据\n",
        "k = 7\n",
        "kval = select_fct(array, k)#调用函数\n",
        "print(kval)\n",
        "\n",
        "sorted_array = sorted(array)\n",
        "assert sorted_array[k] == kval#进行验证"
      ],
      "execution_count": 18,
      "outputs": [
        {
          "output_type": "stream",
          "text": [
            "5000\n",
            "1803\n"
          ],
          "name": "stdout"
        }
      ]
    },
    {
      "cell_type": "markdown",
      "metadata": {
        "collapsed": false,
        "id": "YUkWQ9WOUqBt"
      },
      "source": [
        "### 4.2 实现基于随机方法的 k 位数算法\n",
        "> 提示:参考第七章 7.3 节。"
      ]
    },
    {
      "cell_type": "markdown",
      "metadata": {
        "collapsed": false,
        "id": "5PYYnZkHUqBt"
      },
      "source": [
        "#### 流程"
      ]
    },
    {
      "cell_type": "markdown",
      "metadata": {
        "id": "lwWg8xYsXNKH"
      },
      "source": [
        "1. 在数据中随机一位做标点\n",
        "2. 分成三组数据\n",
        "3. 判断所求在那一组数据中\n",
        "4. 递归，直至出结果\n"
      ]
    },
    {
      "cell_type": "markdown",
      "metadata": {
        "collapsed": false,
        "id": "fb9_-oWfUqBt"
      },
      "source": [
        "#### 数据生成"
      ]
    },
    {
      "cell_type": "code",
      "metadata": {
        "id": "p9hmncLngxjt"
      },
      "source": [
        "import random\n",
        "num = 200\n",
        "array = [random.randint(1, 1000) for i in range(num)]\n",
        "print(len(array))\n",
        "random.shuffle(array)#打散数据\n",
        "random.shuffle(array)#再次打散数据"
      ],
      "execution_count": null,
      "outputs": []
    },
    {
      "cell_type": "markdown",
      "metadata": {
        "collapsed": false,
        "id": "uOFkDjchUqBt"
      },
      "source": [
        "#### 核心代码"
      ]
    },
    {
      "cell_type": "code",
      "metadata": {
        "id": "EJQpMwrWg2fX"
      },
      "source": [
        "#寻找第K小的数\n",
        "def select_fct(array,k):\n",
        "    if len(array)<=10:#边界条件\n",
        "        array=sorted(array)\n",
        "        return array[k]\n",
        "    pivot = array[random.randint(0, len(array))-1] #得到支点数\n",
        "    array_lt,array_gt,array_eq=patition_array(array,pivot)#按照支点数划分\n",
        "    if k<len(array_lt): #所求数在支点数的左边\n",
        "        return select_fct(array_lt, k) #递归执行，排序为k\n",
        "\n",
        "    elif k<len(array_lt)+len(array_eq): #所求数为支点数\n",
        "        return array_eq[0]\n",
        "\n",
        "    else:#所求数在支点数的右边\n",
        "        normalized_k=k-(len(array_lt)+len(array_eq))#此时排序发生变化，不是k，而需要经过变化\n",
        "        return select_fct(array_gt,normalized_k)\n",
        "\n",
        "# 按照支点数划分数组\n",
        "def patition_array(array, pivot):\n",
        "    array_lt = []\n",
        "    array_gt = []\n",
        "    array_eq = []\n",
        "    for item in array:\n",
        "        if item < pivot:\n",
        "            array_lt.append(item)#小于中间数的放左边\n",
        "        elif item > pivot:\n",
        "            array_gt.append(item)#大于中间数的放右边\n",
        "        else:\n",
        "            array_eq.append(item)#等于中间数的储存一个列表\n",
        "    return array_lt, array_gt, array_eq"
      ],
      "execution_count": null,
      "outputs": []
    },
    {
      "cell_type": "markdown",
      "metadata": {
        "collapsed": false,
        "id": "G7zL7t8UUqBt"
      },
      "source": [
        "#### 效果"
      ]
    },
    {
      "cell_type": "markdown",
      "metadata": {
        "collapsed": false,
        "id": "fcqY6p_uUqBt"
      },
      "source": [
        "### 4.3 对比两种 k 位数算法\n",
        "\n",
        "(1)随机生成大小不同数据集合，如大小分别为(1000，2000，5000，10000， 20000, 50000, 100000)的数据集合;\n",
        "\n",
        "(2)对每个算法，针对不同大小的数据集合，运行算法 1000 次并记录算法运行 的平均时间;\n",
        "\n",
        "(3)将得到的运行时间绘制成曲线，分析并比较两种不同的算法。\n"
      ]
    },
    {
      "cell_type": "markdown",
      "metadata": {
        "collapsed": false,
        "id": "lPIo2QQ0UqBt"
      },
      "source": [
        "### 4.4 随机算法参数分析"
      ]
    },
    {
      "cell_type": "markdown",
      "metadata": {
        "collapsed": false,
        "id": "nRwsofJuUqBt"
      },
      "source": [
        "(1)改变随机 k 位数算法的采样比例(原始是 3/4)，分别为(1/8，1/4，3/8，...， 7/8，1);\n",
        "> 注:|𝑃| ≤ 4𝑛3/4 + 1此处的 3/4 亦需要修改。\n"
      ]
    },
    {
      "cell_type": "markdown",
      "metadata": {
        "collapsed": false,
        "id": "zJ9vvFyTUqBt"
      },
      "source": [
        "(2)点数规模是 50000，运行算法 1000 次，记录第一次运行算法可以得到 k 位数的次数和运行一次算法的平均时间; (3)将一次运行得到正确结果的概率和运行时间绘制成曲线，分析并比较。"
      ]
    },
    {
      "cell_type": "markdown",
      "metadata": {
        "collapsed": false,
        "id": "TDLalGKBUqBt"
      },
      "source": [
        ""
      ]
    }
  ]
}